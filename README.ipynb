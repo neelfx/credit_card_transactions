{
 "cells": [
  {
   "cell_type": "markdown",
   "metadata": {},
   "source": [
    "# Table of contents"
   ]
  },
  {
   "cell_type": "markdown",
   "metadata": {},
   "source": [
    "- Purpose\n",
    "\n",
    "- Synopsis\n",
    "\n",
    "- Analysis\n",
    "\n",
    "- Wayforward"
   ]
  },
  {
   "cell_type": "markdown",
   "metadata": {
    "ExecuteTime": {
     "end_time": "2020-06-21T09:50:18.467413Z",
     "start_time": "2020-06-21T09:50:18.365713Z"
    }
   },
   "source": [
    "# Purpose"
   ]
  },
  {
   "cell_type": "markdown",
   "metadata": {},
   "source": [
    "Given the Taiwan credit card default dataset. Can we correctly classify whether a customer will default on their next payment. The dataset consists of payment history for a 6 month period. April 2005 to September 2005. Based on this information will month 7 be default or not. This is a binary classification problem.\n",
    "\n",
    "This README will also serve as a general outline and explanation of the analysis and development process.\n"
   ]
  },
  {
   "cell_type": "markdown",
   "metadata": {},
   "source": [
    "# Synopsis"
   ]
  },
  {
   "cell_type": "markdown",
   "metadata": {},
   "source": [
    "An exploration into the dataset showed that sex, marriage status and education weren't importance features when predicting the default status. I found the XGboost model provided the best recall value of 0.88 for a true positive value. Precision was 0.51 and the F1 score was 0.64. Using GridsearchCV allowed me to get to the optimal parameters for XGboost to get to this recall value.\n",
    "\n",
    "I have decided that the recall value is more important when optimising the models due to the importance of being able to correctly identify actual positives, actual defaults. The precision is only 0.51, this means many customers that wouldn't be defaulting would also be identified as defaulting. The department responsible for managing risk for the credit card company would need to make a decision on what action needs to be taken. For example, if a credit card customer that isn't going to default gets flagged a letter or notification could be sent informing that in the event of difficulties making payments he/she is able to contact the customer service team see if any help can be given. This way it will be a positive interaction with the customers in general but may help prevent default before it happens to true positives for default.\n",
    "\n",
    "\n",
    "**Logistic regression model** - This produced a recall value for predicting default of 0.63 and precision of 0.45, F1-score of 0.52\n",
    "Sampling method: SMOTE\n",
    "\n",
    "**Decision tree model** - This produced a recall value for predicting default of 0.65 and precision of 0.42, F1-score of 0.51\n",
    "Sampling method: RandomOverSampling\n",
    "\n",
    "**Random Forest model** - This produced a recall value for predicting default of 0.64 and precision of 0.43, F1-score of 0.52 Sampling method: RandomOverSampling\n",
    "\n",
    "**XGboost Model** - This produced a recall value for predicting default of 0.63 and precision of 0.88, F1-score of 0.64\n",
    "Sampling method: No resampling used due to Gridsearch producing an error with the resampled data. scale_pos_weight=5 was used to compensate for the imbalanced data."
   ]
  },
  {
   "cell_type": "markdown",
   "metadata": {},
   "source": [
    "# EDA and Feature engineering"
   ]
  },
  {
   "cell_type": "markdown",
   "metadata": {
    "ExecuteTime": {
     "end_time": "2020-06-21T10:50:03.746604Z",
     "start_time": "2020-06-21T10:50:03.744408Z"
    }
   },
   "source": [
    "## Class imbalance\n",
    "\n",
    "The class imbalance is high in this dataset, and therefore different sampling techniques such as oversamplying, undersampling, adjusting weights to counter the imbalance.\n",
    "\n",
    "![class_imbalance](images/class_imbalance.png)\n"
   ]
  },
  {
   "cell_type": "markdown",
   "metadata": {},
   "source": [
    "## Features"
   ]
  },
  {
   "cell_type": "markdown",
   "metadata": {},
   "source": [
    "1. Credit Usage - An monthly indicator comparing the balance and credit limit. (Balance / Credit limit). This is a monthly feature, for example cred_use_2005_09 - cred_use_2005_04\n",
    "\n",
    "\n",
    "2. avg_payment - Average of the 6 months payments.\n",
    "\n",
    "\n",
    "3. successive_payments - How many payments that are back to back. I have assumed that this is a sign of stability, the less successive payments the more likely a customer is to default.\n",
    "\n",
    "\n",
    "4. always_paid - A flag that indicates whether a customer has always paid in the 6 month period.\n",
    "\n",
    "\n",
    "5. always_delayed - A flag that indicated whether a customer has always been delayed in the 6 month period.\n",
    "\n",
    "\n",
    "\n",
    "always_paid and always_delayed ranked very low in the initial feature importance report so I decided to not included them subsequently. "
   ]
  },
  {
   "cell_type": "markdown",
   "metadata": {},
   "source": [
    "# Models"
   ]
  },
  {
   "cell_type": "markdown",
   "metadata": {},
   "source": [
    "## Logistic Regression"
   ]
  },
  {
   "cell_type": "markdown",
   "metadata": {},
   "source": [
    "Precision was high but recall was not good. Due to this the overall F1 score was not \n",
    "\n",
    "### Baseline classification report\n",
    "\n",
    "![log_base_report](images/log_base_report.png)\n",
    "\n",
    "\n",
    "### Weight adjusted classification report\n",
    "\n",
    "![log2_report](images/log2_report.png)"
   ]
  },
  {
   "cell_type": "markdown",
   "metadata": {},
   "source": [
    "## Decision Trees Model"
   ]
  },
  {
   "cell_type": "markdown",
   "metadata": {},
   "source": [
    "Results found based on this model, what was tried.\n",
    "\n",
    "### Classification report\n",
    "\n",
    "![dt_report1](images/dt_report1.png)"
   ]
  },
  {
   "cell_type": "markdown",
   "metadata": {},
   "source": [
    "## Random Forests Model"
   ]
  },
  {
   "cell_type": "markdown",
   "metadata": {},
   "source": [
    "Take a look at this massive Amazon sized forest! :\n",
    "\n",
    "![amazon](images/amazon.png)\n",
    "\n",
    "\n",
    "The features that were most important in this model (this could be indicative of the dataset in general) are as follows:\n",
    "![features](images/f_importance.png)\n",
    "\n",
    "*Credit Usage*, *average payment*, *successive_payments* and *age* seem to be importance features for the model.\n",
    "\n",
    "### Classification report\n",
    "\n",
    "![rf_report](images/rf_report.png)\n",
    "    "
   ]
  },
  {
   "cell_type": "markdown",
   "metadata": {},
   "source": [
    "## XGboost Model"
   ]
  },
  {
   "cell_type": "markdown",
   "metadata": {},
   "source": [
    "This model had the best overall results when a weight of 5 was applied to the data that was imbalanced and GridsearchCV run to find the optimal parameters.\n",
    "\n",
    "**Optimal parameters:**\n",
    "\n",
    "- learning_rate: 0.1\n",
    "\n",
    "- max_depth: 6\n",
    "\n",
    "- min_child_weight: 10\n",
    "\n",
    "- n_estimators: 250\n",
    "\n",
    "- subsample: 0.7\n",
    "\n",
    "### Classification report\n",
    "\n",
    "![xg_report](images/xg_report1.png)\n"
   ]
  },
  {
   "cell_type": "markdown",
   "metadata": {},
   "source": [
    "# Way forward"
   ]
  },
  {
   "cell_type": "markdown",
   "metadata": {},
   "source": [
    "- The model has been trained to look at 6 months of data. It would be interesting to see how it would perform if a dataset was available that covered a larger period. A multi year dataset with monthly resolution could reveal insights into how different seasons affect the ability to make a payment. For example Christmas period and the months in the new year where the balance may have increased considerably. But this is the Taiwan dataset so Christmas may not be that important and instead look at the different festivals that would mean extra spending.\n",
    "\n",
    "\n",
    "- Further to the above point regarding different demographics. A variety of datasets that covers different parts of the world would be a great place to identify new patterns. For example datasets from a group of countries from each major continent.\n",
    "\n",
    "\n",
    "- Credit card debt is used often as a dataset to guide financial forecasts for the economies of countries. Another posible way of seeing if the classification can be improved would be to include financial data such as interest rates, stock prices of a certain basket companies, etc could provide features that are useful for the models.\n",
    "\n",
    "\n",
    "- Applying a more advance data science model such as neural networks to improve prediction.\n"
   ]
  },
  {
   "cell_type": "code",
   "execution_count": null,
   "metadata": {},
   "outputs": [],
   "source": []
  }
 ],
 "metadata": {
  "kernelspec": {
   "display_name": "learn-env",
   "language": "python",
   "name": "learn-env"
  },
  "language_info": {
   "codemirror_mode": {
    "name": "ipython",
    "version": 3
   },
   "file_extension": ".py",
   "mimetype": "text/x-python",
   "name": "python",
   "nbconvert_exporter": "python",
   "pygments_lexer": "ipython3",
   "version": "3.7.3"
  },
  "toc": {
   "base_numbering": 1,
   "nav_menu": {},
   "number_sections": true,
   "sideBar": true,
   "skip_h1_title": false,
   "title_cell": "Table of Contents",
   "title_sidebar": "Contents",
   "toc_cell": false,
   "toc_position": {},
   "toc_section_display": true,
   "toc_window_display": true
  },
  "varInspector": {
   "cols": {
    "lenName": 16,
    "lenType": 16,
    "lenVar": 40
   },
   "kernels_config": {
    "python": {
     "delete_cmd_postfix": "",
     "delete_cmd_prefix": "del ",
     "library": "var_list.py",
     "varRefreshCmd": "print(var_dic_list())"
    },
    "r": {
     "delete_cmd_postfix": ") ",
     "delete_cmd_prefix": "rm(",
     "library": "var_list.r",
     "varRefreshCmd": "cat(var_dic_list()) "
    }
   },
   "types_to_exclude": [
    "module",
    "function",
    "builtin_function_or_method",
    "instance",
    "_Feature"
   ],
   "window_display": false
  }
 },
 "nbformat": 4,
 "nbformat_minor": 2
}
