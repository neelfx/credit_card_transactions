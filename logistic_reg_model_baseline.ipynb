{
 "cells": [
  {
   "cell_type": "code",
   "execution_count": 65,
   "metadata": {
    "ExecuteTime": {
     "end_time": "2020-08-27T13:23:42.103015Z",
     "start_time": "2020-08-27T13:23:42.029039Z"
    }
   },
   "outputs": [],
   "source": [
    "import pickle\n",
    "with open('./data/cleaned_df.pickle', 'rb') as file:\n",
    "    df = pickle.load(file)\n",
    "    "
   ]
  },
  {
   "cell_type": "code",
   "execution_count": 84,
   "metadata": {
    "ExecuteTime": {
     "end_time": "2020-09-08T18:52:33.706970Z",
     "start_time": "2020-09-08T18:52:33.458090Z"
    }
   },
   "outputs": [],
   "source": [
    "from sklearn.linear_model import LogisticRegression\n",
    "from sklearn.model_selection import train_test_split\n",
    "from sklearn.metrics import confusion_matrix\n",
    "from sklearn.metrics import classification_report\n",
    "import pandas as pd\n",
    "import numpy as np\n",
    "import matplotlib.pyplot as plt\n",
    "%matplotlib inline\n",
    "import seaborn as sns"
   ]
  },
  {
   "cell_type": "code",
   "execution_count": 67,
   "metadata": {
    "ExecuteTime": {
     "end_time": "2020-08-27T13:23:43.884078Z",
     "start_time": "2020-08-27T13:23:43.840084Z"
    }
   },
   "outputs": [
    {
     "name": "stdout",
     "output_type": "stream",
     "text": [
      "<class 'pandas.core.frame.DataFrame'>\n",
      "Int64Index: 29945 entries, 1 to 30000\n",
      "Data columns (total 25 columns):\n",
      "age                    29945 non-null int64\n",
      "pstatus_2005_09        29945 non-null int64\n",
      "pstatus_2005_08        29945 non-null int64\n",
      "pstatus_2005_07        29945 non-null int64\n",
      "pstatus_2005_06        29945 non-null int64\n",
      "pstatus_2005_05        29945 non-null int64\n",
      "pstatus_2005_04        29945 non-null int64\n",
      "Male                   29945 non-null uint8\n",
      "Female                 29945 non-null uint8\n",
      "Married                29945 non-null uint8\n",
      "Single                 29945 non-null uint8\n",
      "Others                 29945 non-null uint8\n",
      "GS                     29945 non-null uint8\n",
      "HS                     29945 non-null uint8\n",
      "Univ                   29945 non-null uint8\n",
      "Other                  29945 non-null uint8\n",
      "default_next_month     29945 non-null int64\n",
      "avg_payment            29945 non-null float64\n",
      "successive_payments    29945 non-null int64\n",
      "cred_use_2005_09       29945 non-null float64\n",
      "cred_use_2005_08       29945 non-null float64\n",
      "cred_use_2005_07       29945 non-null float64\n",
      "cred_use_2005_06       29945 non-null float64\n",
      "cred_use_2005_05       29945 non-null float64\n",
      "cred_use_2005_04       29945 non-null float64\n",
      "dtypes: float64(7), int64(9), uint8(9)\n",
      "memory usage: 4.1 MB\n"
     ]
    }
   ],
   "source": [
    "df.info()"
   ]
  },
  {
   "cell_type": "markdown",
   "metadata": {
    "ExecuteTime": {
     "end_time": "2020-08-22T18:36:00.790466Z",
     "start_time": "2020-08-22T18:36:00.787466Z"
    }
   },
   "source": [
    "## Define appropriate `X` and `y` "
   ]
  },
  {
   "cell_type": "code",
   "execution_count": 68,
   "metadata": {
    "ExecuteTime": {
     "end_time": "2020-08-27T13:23:46.000838Z",
     "start_time": "2020-08-27T13:23:45.982847Z"
    }
   },
   "outputs": [],
   "source": [
    "# Split the data into target and predictors\n",
    "y = df['default_next_month']\n",
    "X = df.drop(columns=['default_next_month'], axis=1)"
   ]
  },
  {
   "cell_type": "markdown",
   "metadata": {
    "ExecuteTime": {
     "end_time": "2020-08-22T18:36:26.451161Z",
     "start_time": "2020-08-22T18:36:26.445165Z"
    }
   },
   "source": [
    "## Normalize the data "
   ]
  },
  {
   "cell_type": "code",
   "execution_count": 69,
   "metadata": {
    "ExecuteTime": {
     "end_time": "2020-08-27T13:23:47.991085Z",
     "start_time": "2020-08-27T13:23:47.780211Z"
    }
   },
   "outputs": [
    {
     "data": {
      "text/html": [
       "<div>\n",
       "<style scoped>\n",
       "    .dataframe tbody tr th:only-of-type {\n",
       "        vertical-align: middle;\n",
       "    }\n",
       "\n",
       "    .dataframe tbody tr th {\n",
       "        vertical-align: top;\n",
       "    }\n",
       "\n",
       "    .dataframe thead th {\n",
       "        text-align: right;\n",
       "    }\n",
       "</style>\n",
       "<table border=\"1\" class=\"dataframe\">\n",
       "  <thead>\n",
       "    <tr style=\"text-align: right;\">\n",
       "      <th></th>\n",
       "      <th>age</th>\n",
       "      <th>pstatus_2005_09</th>\n",
       "      <th>pstatus_2005_08</th>\n",
       "      <th>pstatus_2005_07</th>\n",
       "      <th>pstatus_2005_06</th>\n",
       "      <th>pstatus_2005_05</th>\n",
       "      <th>pstatus_2005_04</th>\n",
       "      <th>Male</th>\n",
       "      <th>Female</th>\n",
       "      <th>Married</th>\n",
       "      <th>...</th>\n",
       "      <th>Univ</th>\n",
       "      <th>Other</th>\n",
       "      <th>avg_payment</th>\n",
       "      <th>successive_payments</th>\n",
       "      <th>cred_use_2005_09</th>\n",
       "      <th>cred_use_2005_08</th>\n",
       "      <th>cred_use_2005_07</th>\n",
       "      <th>cred_use_2005_06</th>\n",
       "      <th>cred_use_2005_05</th>\n",
       "      <th>cred_use_2005_04</th>\n",
       "    </tr>\n",
       "  </thead>\n",
       "  <tbody>\n",
       "    <tr>\n",
       "      <td>1</td>\n",
       "      <td>0.051724</td>\n",
       "      <td>0.666667</td>\n",
       "      <td>0.666667</td>\n",
       "      <td>0.000000</td>\n",
       "      <td>0.000000</td>\n",
       "      <td>0.000000</td>\n",
       "      <td>0.000000</td>\n",
       "      <td>0.0</td>\n",
       "      <td>1.0</td>\n",
       "      <td>1.0</td>\n",
       "      <td>...</td>\n",
       "      <td>0.0</td>\n",
       "      <td>0.0</td>\n",
       "      <td>0.000135</td>\n",
       "      <td>0.666667</td>\n",
       "      <td>0.115268</td>\n",
       "      <td>0.199413</td>\n",
       "      <td>0.090454</td>\n",
       "      <td>0.210769</td>\n",
       "      <td>0.150844</td>\n",
       "      <td>0.279798</td>\n",
       "    </tr>\n",
       "    <tr>\n",
       "      <td>2</td>\n",
       "      <td>0.086207</td>\n",
       "      <td>0.000000</td>\n",
       "      <td>0.666667</td>\n",
       "      <td>0.333333</td>\n",
       "      <td>0.333333</td>\n",
       "      <td>0.333333</td>\n",
       "      <td>0.666667</td>\n",
       "      <td>0.0</td>\n",
       "      <td>1.0</td>\n",
       "      <td>0.0</td>\n",
       "      <td>...</td>\n",
       "      <td>0.0</td>\n",
       "      <td>0.0</td>\n",
       "      <td>0.000038</td>\n",
       "      <td>0.500000</td>\n",
       "      <td>0.090774</td>\n",
       "      <td>0.181315</td>\n",
       "      <td>0.089421</td>\n",
       "      <td>0.214950</td>\n",
       "      <td>0.155798</td>\n",
       "      <td>0.284835</td>\n",
       "    </tr>\n",
       "    <tr>\n",
       "      <td>3</td>\n",
       "      <td>0.224138</td>\n",
       "      <td>0.333333</td>\n",
       "      <td>0.333333</td>\n",
       "      <td>0.333333</td>\n",
       "      <td>0.333333</td>\n",
       "      <td>0.333333</td>\n",
       "      <td>0.333333</td>\n",
       "      <td>0.0</td>\n",
       "      <td>1.0</td>\n",
       "      <td>0.0</td>\n",
       "      <td>...</td>\n",
       "      <td>0.0</td>\n",
       "      <td>0.0</td>\n",
       "      <td>0.000026</td>\n",
       "      <td>1.000000</td>\n",
       "      <td>0.133533</td>\n",
       "      <td>0.199510</td>\n",
       "      <td>0.100375</td>\n",
       "      <td>0.235186</td>\n",
       "      <td>0.179420</td>\n",
       "      <td>0.311821</td>\n",
       "    </tr>\n",
       "    <tr>\n",
       "      <td>4</td>\n",
       "      <td>0.275862</td>\n",
       "      <td>0.333333</td>\n",
       "      <td>0.333333</td>\n",
       "      <td>0.333333</td>\n",
       "      <td>0.333333</td>\n",
       "      <td>0.333333</td>\n",
       "      <td>0.333333</td>\n",
       "      <td>0.0</td>\n",
       "      <td>1.0</td>\n",
       "      <td>1.0</td>\n",
       "      <td>...</td>\n",
       "      <td>0.0</td>\n",
       "      <td>0.0</td>\n",
       "      <td>0.000008</td>\n",
       "      <td>1.000000</td>\n",
       "      <td>0.220445</td>\n",
       "      <td>0.303522</td>\n",
       "      <td>0.171673</td>\n",
       "      <td>0.297604</td>\n",
       "      <td>0.250492</td>\n",
       "      <td>0.389331</td>\n",
       "    </tr>\n",
       "    <tr>\n",
       "      <td>5</td>\n",
       "      <td>0.620690</td>\n",
       "      <td>0.000000</td>\n",
       "      <td>0.333333</td>\n",
       "      <td>0.000000</td>\n",
       "      <td>0.333333</td>\n",
       "      <td>0.333333</td>\n",
       "      <td>0.333333</td>\n",
       "      <td>1.0</td>\n",
       "      <td>0.0</td>\n",
       "      <td>1.0</td>\n",
       "      <td>...</td>\n",
       "      <td>0.0</td>\n",
       "      <td>0.0</td>\n",
       "      <td>0.000281</td>\n",
       "      <td>1.000000</td>\n",
       "      <td>0.111973</td>\n",
       "      <td>0.194050</td>\n",
       "      <td>0.148698</td>\n",
       "      <td>0.274989</td>\n",
       "      <td>0.216726</td>\n",
       "      <td>0.350718</td>\n",
       "    </tr>\n",
       "  </tbody>\n",
       "</table>\n",
       "<p>5 rows × 24 columns</p>\n",
       "</div>"
      ],
      "text/plain": [
       "        age  pstatus_2005_09  pstatus_2005_08  pstatus_2005_07  \\\n",
       "1  0.051724         0.666667         0.666667         0.000000   \n",
       "2  0.086207         0.000000         0.666667         0.333333   \n",
       "3  0.224138         0.333333         0.333333         0.333333   \n",
       "4  0.275862         0.333333         0.333333         0.333333   \n",
       "5  0.620690         0.000000         0.333333         0.000000   \n",
       "\n",
       "   pstatus_2005_06  pstatus_2005_05  pstatus_2005_04  Male  Female  Married  \\\n",
       "1         0.000000         0.000000         0.000000   0.0     1.0      1.0   \n",
       "2         0.333333         0.333333         0.666667   0.0     1.0      0.0   \n",
       "3         0.333333         0.333333         0.333333   0.0     1.0      0.0   \n",
       "4         0.333333         0.333333         0.333333   0.0     1.0      1.0   \n",
       "5         0.333333         0.333333         0.333333   1.0     0.0      1.0   \n",
       "\n",
       "   ...  Univ  Other  avg_payment  successive_payments  cred_use_2005_09  \\\n",
       "1  ...   0.0    0.0     0.000135             0.666667          0.115268   \n",
       "2  ...   0.0    0.0     0.000038             0.500000          0.090774   \n",
       "3  ...   0.0    0.0     0.000026             1.000000          0.133533   \n",
       "4  ...   0.0    0.0     0.000008             1.000000          0.220445   \n",
       "5  ...   0.0    0.0     0.000281             1.000000          0.111973   \n",
       "\n",
       "   cred_use_2005_08  cred_use_2005_07  cred_use_2005_06  cred_use_2005_05  \\\n",
       "1          0.199413          0.090454          0.210769          0.150844   \n",
       "2          0.181315          0.089421          0.214950          0.155798   \n",
       "3          0.199510          0.100375          0.235186          0.179420   \n",
       "4          0.303522          0.171673          0.297604          0.250492   \n",
       "5          0.194050          0.148698          0.274989          0.216726   \n",
       "\n",
       "   cred_use_2005_04  \n",
       "1          0.279798  \n",
       "2          0.284835  \n",
       "3          0.311821  \n",
       "4          0.389331  \n",
       "5          0.350718  \n",
       "\n",
       "[5 rows x 24 columns]"
      ]
     },
     "execution_count": 69,
     "metadata": {},
     "output_type": "execute_result"
    }
   ],
   "source": [
    "X = X.apply(lambda x : (x - x.min()) /(x.max() - x.min()), axis=0)\n",
    "X.head()"
   ]
  },
  {
   "cell_type": "markdown",
   "metadata": {
    "ExecuteTime": {
     "end_time": "2020-08-22T18:36:45.870463Z",
     "start_time": "2020-08-22T18:36:45.866466Z"
    }
   },
   "source": [
    "## Train- test split "
   ]
  },
  {
   "cell_type": "code",
   "execution_count": 70,
   "metadata": {
    "ExecuteTime": {
     "end_time": "2020-08-27T13:23:50.156664Z",
     "start_time": "2020-08-27T13:23:50.120684Z"
    }
   },
   "outputs": [],
   "source": [
    "# Split the data into training and test sets\n",
    "X_train, X_test, y_train, y_test = train_test_split(X, y, random_state=0)"
   ]
  },
  {
   "cell_type": "markdown",
   "metadata": {},
   "source": [
    "## Fit a model"
   ]
  },
  {
   "cell_type": "code",
   "execution_count": 71,
   "metadata": {
    "ExecuteTime": {
     "end_time": "2020-08-27T13:23:52.304562Z",
     "start_time": "2020-08-27T13:23:51.672924Z"
    }
   },
   "outputs": [
    {
     "data": {
      "text/plain": [
       "LogisticRegression(C=1000000000000.0, fit_intercept=False, solver='liblinear')"
      ]
     },
     "execution_count": 71,
     "metadata": {},
     "output_type": "execute_result"
    }
   ],
   "source": [
    "# Instantiate the model\n",
    "logreg = LogisticRegression(fit_intercept=False, C=1e12, solver='liblinear')\n",
    "\n",
    "# Fit the model\n",
    "logreg.fit(X_train, y_train)"
   ]
  },
  {
   "cell_type": "markdown",
   "metadata": {
    "ExecuteTime": {
     "end_time": "2020-08-22T18:42:33.838326Z",
     "start_time": "2020-08-22T18:42:33.833329Z"
    }
   },
   "source": [
    "## Predict"
   ]
  },
  {
   "cell_type": "code",
   "execution_count": 72,
   "metadata": {
    "ExecuteTime": {
     "end_time": "2020-08-27T13:23:57.699489Z",
     "start_time": "2020-08-27T13:23:57.660512Z"
    }
   },
   "outputs": [],
   "source": [
    "# Generate predictions\n",
    "y_hat_train = logreg.predict(X_train)\n",
    "y_hat_test = logreg.predict(X_test)"
   ]
  },
  {
   "cell_type": "markdown",
   "metadata": {},
   "source": [
    "## How many times was the classifier correct on the training set?"
   ]
  },
  {
   "cell_type": "code",
   "execution_count": 73,
   "metadata": {
    "ExecuteTime": {
     "end_time": "2020-08-27T13:24:03.573838Z",
     "start_time": "2020-08-27T13:24:03.528867Z"
    }
   },
   "outputs": [
    {
     "name": "stdout",
     "output_type": "stream",
     "text": [
      "0    18057\n",
      "1     4401\n",
      "Name: default_next_month, dtype: int64\n",
      "------------------------------------\n",
      "0    0.804034\n",
      "1    0.195966\n",
      "Name: default_next_month, dtype: float64\n"
     ]
    }
   ],
   "source": [
    "# We could subtract the two columns. If values or equal, difference will be zero. Then count number of zeros.\n",
    "residuals = np.abs(y_train - y_hat_train)\n",
    "print(pd.Series(residuals).value_counts())\n",
    "print('------------------------------------')\n",
    "print(pd.Series(residuals).value_counts(normalize=True))\n",
    "# 194 correct, ~ 85% accuracy"
   ]
  },
  {
   "cell_type": "markdown",
   "metadata": {},
   "source": [
    "## How many times was the classifier correct on the test set?"
   ]
  },
  {
   "cell_type": "code",
   "execution_count": 74,
   "metadata": {
    "ExecuteTime": {
     "end_time": "2020-08-27T13:24:05.864482Z",
     "start_time": "2020-08-27T13:24:05.836497Z"
    },
    "scrolled": true
   },
   "outputs": [
    {
     "name": "stdout",
     "output_type": "stream",
     "text": [
      "0    6053\n",
      "1    1434\n",
      "Name: default_next_month, dtype: int64\n",
      "------------------------------------\n",
      "0    0.808468\n",
      "1    0.191532\n",
      "Name: default_next_month, dtype: float64\n"
     ]
    }
   ],
   "source": [
    "# We could subtract the two columns. If values or equal, difference will be zero. Then count number of zeros.\n",
    "residuals = np.abs(y_test - y_hat_test)\n",
    "print(pd.Series(residuals).value_counts())\n",
    "print('------------------------------------')\n",
    "print(pd.Series(residuals).value_counts(normalize=True))\n",
    "# 62 correct, ~ 82% accuracy"
   ]
  },
  {
   "cell_type": "code",
   "execution_count": 91,
   "metadata": {
    "ExecuteTime": {
     "end_time": "2020-09-08T18:59:41.038233Z",
     "start_time": "2020-09-08T18:59:40.977267Z"
    }
   },
   "outputs": [
    {
     "data": {
      "text/plain": [
       "0    23315\n",
       "1     6630\n",
       "Name: default_next_month, dtype: int64"
      ]
     },
     "execution_count": 91,
     "metadata": {},
     "output_type": "execute_result"
    }
   ],
   "source": [
    "df['default_next_month'].value_counts(normalize=False)"
   ]
  },
  {
   "cell_type": "code",
   "execution_count": 78,
   "metadata": {
    "ExecuteTime": {
     "end_time": "2020-09-08T18:40:14.943676Z",
     "start_time": "2020-09-08T18:40:14.668579Z"
    }
   },
   "outputs": [
    {
     "data": {
      "text/plain": [
       "<matplotlib.axes._subplots.AxesSubplot at 0x261205878d0>"
      ]
     },
     "execution_count": 78,
     "metadata": {},
     "output_type": "execute_result"
    },
    {
     "data": {
      "image/png": "[encoded data removed]",
      "text/plain": [
       "<Figure size 432x288 with 1 Axes>"
      ]
     },
     "metadata": {
      "needs_background": "light"
     },
     "output_type": "display_data"
    }
   ],
   "source": [
    "%matplotlib inline\n",
    "df['default_next_month'].hist()"
   ]
  },
  {
   "cell_type": "code",
   "execution_count": 97,
   "metadata": {
    "ExecuteTime": {
     "end_time": "2020-09-08T19:03:57.455438Z",
     "start_time": "2020-09-08T19:03:57.041316Z"
    }
   },
   "outputs": [
    {
     "data": {
      "text/plain": [
       "Text(0, 0.5, 'Frequency')"
      ]
     },
     "execution_count": 97,
     "metadata": {},
     "output_type": "execute_result"
    },
    {
     "data": {
      "image/png": "[encoded data removed]",
      "text/plain": [
       "<Figure size 1440x1080 with 1 Axes>"
      ]
     },
     "metadata": {
      "needs_background": "light"
     },
     "output_type": "display_data"
    }
   ],
   "source": [
    "plt.figure(figsize=(20,15))\n",
    "x = ['default', 'non default']\n",
    "y = [len(df[df['default_next_month'] == 1]), len(df[df['default_next_month'] == 0])]\n",
    "\n",
    "ax = sns.barplot(x, y).set_title('Class imbalance')\n",
    "\n",
    "plt.xlabel('Default status')\n",
    "# # Set y-axis label\n",
    "plt.ylabel('Frequency')"
   ]
  },
  {
   "cell_type": "code",
   "execution_count": 76,
   "metadata": {
    "ExecuteTime": {
     "end_time": "2020-08-27T13:24:08.592346Z",
     "start_time": "2020-08-27T13:24:08.542374Z"
    }
   },
   "outputs": [
    {
     "name": "stdout",
     "output_type": "stream",
     "text": [
      "              precision    recall  f1-score   support\n",
      "\n",
      "           0       0.82      0.96      0.89      5851\n",
      "           1       0.65      0.27      0.38      1636\n",
      "\n",
      "    accuracy                           0.81      7487\n",
      "   macro avg       0.74      0.61      0.63      7487\n",
      "weighted avg       0.79      0.81      0.78      7487\n",
      "\n"
     ]
    }
   ],
   "source": [
    "print(classification_report(y_test, y_hat_test))"
   ]
  },
  {
   "cell_type": "code",
   "execution_count": null,
   "metadata": {},
   "outputs": [],
   "source": []
  },
  {
   "cell_type": "code",
   "execution_count": null,
   "metadata": {},
   "outputs": [],
   "source": []
  }
 ],
 "metadata": {
  "kernelspec": {
   "display_name": "Python [conda env:learn-env] *",
   "language": "python",
   "name": "conda-env-learn-env-py"
  },
  "language_info": {
   "codemirror_mode": {
    "name": "ipython",
    "version": 3
   },
   "file_extension": ".py",
   "mimetype": "text/x-python",
   "name": "python",
   "nbconvert_exporter": "python",
   "pygments_lexer": "ipython3",
   "version": "3.6.9"
  },
  "toc": {
   "base_numbering": 1,
   "nav_menu": {},
   "number_sections": true,
   "sideBar": true,
   "skip_h1_title": false,
   "title_cell": "Table of Contents",
   "title_sidebar": "Contents",
   "toc_cell": false,
   "toc_position": {},
   "toc_section_display": true,
   "toc_window_display": false
  }
 },
 "nbformat": 4,
 "nbformat_minor": 2
}
