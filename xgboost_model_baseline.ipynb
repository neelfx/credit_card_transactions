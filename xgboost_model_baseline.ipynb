{
 "cells": [
  {
   "cell_type": "code",
   "execution_count": 83,
   "metadata": {
    "ExecuteTime": {
     "end_time": "2020-09-11T18:26:35.357668Z",
     "start_time": "2020-09-11T18:26:35.310692Z"
    }
   },
   "outputs": [],
   "source": [
    "import pandas as pd\n",
    "import numpy as np\n",
    "import itertools\n",
    "\n",
    "import xgboost as xgb\n",
    "\n",
    "from sklearn.model_selection import train_test_split, GridSearchCV\n",
    "from sklearn.preprocessing import StandardScaler\n",
    "\n",
    "from sklearn.tree import DecisionTreeClassifier\n",
    "\n",
    "from sklearn.metrics import roc_curve, auc\n",
    "from sklearn.metrics import confusion_matrix\n",
    "from sklearn.metrics import classification_report\n",
    "from sklearn.metrics import f1_score, accuracy_score\n",
    "\n",
    "from imblearn.over_sampling import SMOTE, ADASYN, RandomOverSampler\n",
    "\n",
    "import matplotlib as mpl\n",
    "import matplotlib.pyplot as plt\n",
    "import seaborn as sns\n",
    "\n",
    "import warnings\n",
    "warnings.filterwarnings('ignore')\n",
    "\n",
    "%matplotlib inline\n",
    "\n",
    "plt.style.use('seaborn')"
   ]
  },
  {
   "cell_type": "code",
   "execution_count": 69,
   "metadata": {
    "ExecuteTime": {
     "end_time": "2020-09-11T14:56:07.202514Z",
     "start_time": "2020-09-11T14:56:07.044604Z"
    }
   },
   "outputs": [],
   "source": [
    "import pickle\n",
    "with open('./data/cleaned_df.pickle', 'rb') as file:\n",
    "    df = pickle.load(file)\n",
    "    "
   ]
  },
  {
   "cell_type": "markdown",
   "metadata": {},
   "source": [
    "## Preview the class imbalance"
   ]
  },
  {
   "cell_type": "code",
   "execution_count": 70,
   "metadata": {
    "ExecuteTime": {
     "end_time": "2020-09-11T14:56:09.402306Z",
     "start_time": "2020-09-11T14:56:08.972454Z"
    }
   },
   "outputs": [
    {
     "data": {
      "text/plain": [
       "0    0.778594\n",
       "1    0.221406\n",
       "Name: default_next_month, dtype: float64"
      ]
     },
     "execution_count": 70,
     "metadata": {},
     "output_type": "execute_result"
    }
   ],
   "source": [
    "# Count the number of fraudulent/infraudulent purchases\n",
    "df['default_next_month'].value_counts(normalize=True)"
   ]
  },
  {
   "cell_type": "markdown",
   "metadata": {},
   "source": [
    "## Define the predictor and target variables"
   ]
  },
  {
   "cell_type": "code",
   "execution_count": 152,
   "metadata": {
    "ExecuteTime": {
     "end_time": "2020-09-11T19:30:36.860665Z",
     "start_time": "2020-09-11T19:30:36.679771Z"
    }
   },
   "outputs": [],
   "source": [
    "# Your code here\n",
    "y = df['default_next_month']\n",
    "X = df.drop(columns=['default_next_month'], axis=1)\n",
    "\n",
    "#scaler = StandardScaler()\n",
    "#scaled_df = scaler.fit_transform(X)\n",
    "\n",
    "SEED = 1\n",
    "X_train, X_test, y_train, y_test = train_test_split(X, y, test_size=0.3, random_state=SEED)"
   ]
  },
  {
   "cell_type": "markdown",
   "metadata": {},
   "source": [
    "Find the class imbalance in the training and test sets: "
   ]
  },
  {
   "cell_type": "code",
   "execution_count": 153,
   "metadata": {
    "ExecuteTime": {
     "end_time": "2020-09-11T19:30:38.142405Z",
     "start_time": "2020-09-11T19:30:38.108425Z"
    },
    "scrolled": true
   },
   "outputs": [
    {
     "name": "stdout",
     "output_type": "stream",
     "text": [
      "0    0.778398\n",
      "1    0.221602\n",
      "Name: default_next_month, dtype: float64\n",
      "\n",
      "\n",
      "0    0.779052\n",
      "1    0.220948\n",
      "Name: default_next_month, dtype: float64\n"
     ]
    }
   ],
   "source": [
    "# Training set\n",
    "print(y_train.value_counts(normalize=True))\n",
    "print('\\n')\n",
    "# Test set\n",
    "print(y_test.value_counts(normalize=True))"
   ]
  },
  {
   "cell_type": "code",
   "execution_count": 154,
   "metadata": {
    "ExecuteTime": {
     "end_time": "2020-09-11T19:30:38.861970Z",
     "start_time": "2020-09-11T19:30:38.810998Z"
    }
   },
   "outputs": [],
   "source": [
    "rus = RandomOverSampler()\n",
    "#rus = RandomUnderSampler(random_state=3)\n",
    "\n",
    "# Fit SMOTE to training data\n",
    "#X_train_resampled, y_train_resampled = ADASYN().fit_sample(X_train, y_train) \n",
    "X_train_resampled, y_train_resampled = rus.fit_sample(X_train, y_train)"
   ]
  },
  {
   "cell_type": "markdown",
   "metadata": {},
   "source": [
    "## Train a vanilla classifier and show accuracy"
   ]
  },
  {
   "cell_type": "code",
   "execution_count": 155,
   "metadata": {
    "ExecuteTime": {
     "end_time": "2020-09-11T19:30:44.366428Z",
     "start_time": "2020-09-11T19:30:40.671572Z"
    }
   },
   "outputs": [
    {
     "name": "stdout",
     "output_type": "stream",
     "text": [
      "Training Accuracy: 69.53%\n",
      "Validation accuracy: 67.94%\n"
     ]
    }
   ],
   "source": [
    "\n",
    "#clf = xgb.XGBClassifier(scale_pos_weight=1)\n",
    "clf = xgb.XGBClassifier(scale_pos_weight=5)\n",
    "clf.fit(X_train, y_train)\n",
    "training_preds = clf.predict(X_train)\n",
    "val_preds = clf.predict(X_test)\n",
    "training_accuracy = accuracy_score(y_train, training_preds)\n",
    "val_accuracy = accuracy_score(y_test, val_preds)\n",
    "\n",
    "print(\"Training Accuracy: {:.4}%\".format(training_accuracy * 100))\n",
    "print(\"Validation accuracy: {:.4}%\".format(val_accuracy * 100))"
   ]
  },
  {
   "cell_type": "code",
   "execution_count": 156,
   "metadata": {
    "ExecuteTime": {
     "end_time": "2020-09-11T19:30:45.328896Z",
     "start_time": "2020-09-11T19:30:45.290915Z"
    }
   },
   "outputs": [
    {
     "name": "stdout",
     "output_type": "stream",
     "text": [
      "              precision    recall  f1-score   support\n",
      "\n",
      "           0       0.90      0.66      0.76      6999\n",
      "           1       0.38      0.73      0.50      1985\n",
      "\n",
      "    accuracy                           0.68      8984\n",
      "   macro avg       0.64      0.70      0.63      8984\n",
      "weighted avg       0.78      0.68      0.71      8984\n",
      "\n"
     ]
    }
   ],
   "source": [
    "print(classification_report(y_test, val_preds))"
   ]
  },
  {
   "cell_type": "markdown",
   "metadata": {},
   "source": [
    "## Tuning XGBoost"
   ]
  },
  {
   "cell_type": "code",
   "execution_count": 75,
   "metadata": {
    "ExecuteTime": {
     "end_time": "2020-09-11T14:56:28.680284Z",
     "start_time": "2020-09-11T14:56:28.671290Z"
    }
   },
   "outputs": [],
   "source": [
    "param_grid = {\n",
    "    \"learning_rate\": [0.1],\n",
    "    'max_depth': [6],\n",
    "    'min_child_weight': [10],\n",
    "    'subsample': [ 0.7],\n",
    "    'n_estimators': [5, 30, 100, 250],\n",
    "}"
   ]
  },
  {
   "cell_type": "code",
   "execution_count": 170,
   "metadata": {
    "ExecuteTime": {
     "end_time": "2020-09-11T21:12:37.666659Z",
     "start_time": "2020-09-11T21:12:37.662663Z"
    }
   },
   "outputs": [],
   "source": [
    "# Gridsearch did not work when used with gridsearch so it wasnt used.\n",
    "\n",
    "# Create the samplers\n",
    "#rus = RandomOverSampler(random_state=3)\n",
    "#rus = RandomUnderSampler(random_state=3)\n",
    "\n",
    "#X_train_resampled, y_train_resampled = ADASYN().fit_sample(X_train, y_train) \n",
    "#X_train_resampled, y_train_resampled = rus.fit_sample(X_train, y_train)"
   ]
  },
  {
   "cell_type": "code",
   "execution_count": 167,
   "metadata": {
    "ExecuteTime": {
     "end_time": "2020-09-11T21:04:30.766926Z",
     "start_time": "2020-09-11T21:02:02.376979Z"
    },
    "scrolled": true
   },
   "outputs": [
    {
     "name": "stdout",
     "output_type": "stream",
     "text": [
      "Grid Search found the following optimal parameters: \n",
      "learning_rate: 0.1\n",
      "max_depth: 6\n",
      "min_child_weight: 10\n",
      "n_estimators: 250\n",
      "subsample: 0.7\n",
      "\n",
      "Training Accuracy: 78.88%\n",
      "Validation accuracy: 78.57%\n"
     ]
    }
   ],
   "source": [
    "grid_clf = GridSearchCV(clf, param_grid, scoring='f1', cv=None, n_jobs=1)\n",
    "grid_clf.fit(X, y)\n",
    "\n",
    "best_parameters = grid_clf.best_params_\n",
    "\n",
    "print(\"Grid Search found the following optimal parameters: \")\n",
    "for param_name in sorted(best_parameters.keys()):\n",
    "    print(\"%s: %r\" % (param_name, best_parameters[param_name]))\n",
    "\n",
    "training_preds = grid_clf.predict(X_train)\n",
    "val_preds = grid_clf.predict(X_test)\n",
    "training_accuracy = accuracy_score(y_train, training_preds)\n",
    "val_accuracy = accuracy_score(y_test, val_preds)\n",
    "\n",
    "print(\"\")\n",
    "print(\"Training Accuracy: {:.4}%\".format(training_accuracy * 100))\n",
    "print(\"Validation accuracy: {:.4}%\".format(val_accuracy * 100))"
   ]
  },
  {
   "cell_type": "markdown",
   "metadata": {},
   "source": []
  },
  {
   "cell_type": "code",
   "execution_count": 168,
   "metadata": {
    "ExecuteTime": {
     "end_time": "2020-09-11T21:08:25.340947Z",
     "start_time": "2020-09-11T21:08:25.302457Z"
    }
   },
   "outputs": [
    {
     "name": "stdout",
     "output_type": "stream",
     "text": [
      "[[5322 1677]\n",
      " [ 248 1737]]\n"
     ]
    }
   ],
   "source": [
    "print(confusion_matrix(y_test, val_preds))"
   ]
  },
  {
   "cell_type": "code",
   "execution_count": 169,
   "metadata": {
    "ExecuteTime": {
     "end_time": "2020-09-11T21:08:26.565724Z",
     "start_time": "2020-09-11T21:08:26.528743Z"
    }
   },
   "outputs": [
    {
     "name": "stdout",
     "output_type": "stream",
     "text": [
      "              precision    recall  f1-score   support\n",
      "\n",
      "           0       0.96      0.76      0.85      6999\n",
      "           1       0.51      0.88      0.64      1985\n",
      "\n",
      "    accuracy                           0.79      8984\n",
      "   macro avg       0.73      0.82      0.75      8984\n",
      "weighted avg       0.86      0.79      0.80      8984\n",
      "\n"
     ]
    }
   ],
   "source": [
    "print(classification_report(y_test, val_preds))"
   ]
  },
  {
   "cell_type": "code",
   "execution_count": null,
   "metadata": {},
   "outputs": [],
   "source": []
  }
 ],
 "metadata": {
  "kernelspec": {
   "display_name": "Python [conda env:learn-env] *",
   "language": "python",
   "name": "conda-env-learn-env-py"
  },
  "language_info": {
   "codemirror_mode": {
    "name": "ipython",
    "version": 3
   },
   "file_extension": ".py",
   "mimetype": "text/x-python",
   "name": "python",
   "nbconvert_exporter": "python",
   "pygments_lexer": "ipython3",
   "version": "3.6.9"
  },
  "toc": {
   "base_numbering": 1,
   "nav_menu": {},
   "number_sections": true,
   "sideBar": true,
   "skip_h1_title": false,
   "title_cell": "Table of Contents",
   "title_sidebar": "Contents",
   "toc_cell": false,
   "toc_position": {},
   "toc_section_display": true,
   "toc_window_display": false
  }
 },
 "nbformat": 4,
 "nbformat_minor": 2
}
